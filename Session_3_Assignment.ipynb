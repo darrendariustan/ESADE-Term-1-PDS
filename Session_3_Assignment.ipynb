{
  "cells": [
    {
      "cell_type": "markdown",
      "id": "24b98369-c7ba-450b-a8b5-e34319000695",
      "metadata": {
        "editable": true,
        "id": "24b98369-c7ba-450b-a8b5-e34319000695",
        "tags": []
      },
      "source": [
        "# Python for Data Science\n",
        "## Session 3\n",
        "### Object Oriented Programming"
      ]
    },
    {
      "cell_type": "markdown",
      "id": "42f8be9a-cc71-4a58-97ac-1a54219a2d72",
      "metadata": {
        "editable": true,
        "id": "42f8be9a-cc71-4a58-97ac-1a54219a2d72",
        "tags": []
      },
      "source": [
        "## Object Oriented programming\n",
        "### Hands on\n",
        "\n",
        "Let's design a course registration system, where the requirements will be:\n",
        "\n",
        "1. Create a **Course** class, where each course has a name, a description and a list of enrolled students. You'll need to implement the next methods:\n",
        "    - Add a student to the course.\n",
        "    - Remove a student from the course.\n",
        "    - Show all students in the course."
      ]
    },
    {
      "cell_type": "code",
      "execution_count": 14,
      "id": "e5430dcf-a01a-4ea1-aff8-5bad4531ab1e",
      "metadata": {
        "editable": true,
        "id": "e5430dcf-a01a-4ea1-aff8-5bad4531ab1e",
        "tags": []
      },
      "outputs": [],
      "source": [
        "class Course:\n",
        "    def __init__(self, course_name, description):\n",
        "        self.name = course_name\n",
        "        self.description = description\n",
        "        self.students = list() #[]\n",
        "\n",
        "    def add_student(self, student_name):\n",
        "        # To ensure no duplication in student list due to adding:\n",
        "        if student_name not in self.students:\n",
        "            self.students.append(student_name)\n",
        "            print(f\"{student_name} has been added to the {self.name} course\")\n",
        "        else:\n",
        "            print(\"The student is already in the {self.name} course\")\n",
        "\n",
        "    def remove_student(self, student_name):\n",
        "        if student_name in self.students:\n",
        "            self.students.remove(student_name)\n",
        "            print(f\"{student_name} has been removed from the {self.name} course\")\n",
        "        #To ensure some message is shown if the student is not in the list\n",
        "        else:\n",
        "            print(\"The student is not in the {self.name} course\")\n",
        "    \n",
        "    def show_students(self):\n",
        "        print(self.students)"
      ]
    },
    {
      "cell_type": "code",
      "execution_count": 15,
      "id": "79311566",
      "metadata": {},
      "outputs": [
        {
          "name": "stdout",
          "output_type": "stream",
          "text": [
            "John has been added to the Python for Data Science course\n"
          ]
        }
      ],
      "source": [
        "#Testing the class:\n",
        "\n",
        "python_course = Course(\"Python for Data Science\", \"Programming with Python with Github\")\n",
        "\n",
        "python_course.add_student(\"John\")"
      ]
    },
    {
      "cell_type": "code",
      "execution_count": 16,
      "id": "566c081f",
      "metadata": {},
      "outputs": [
        {
          "name": "stdout",
          "output_type": "stream",
          "text": [
            "Mary has been added to the Python for Data Science course\n"
          ]
        }
      ],
      "source": [
        "python_course.add_student(\"Mary\")"
      ]
    },
    {
      "cell_type": "code",
      "execution_count": 17,
      "id": "9d7c5025",
      "metadata": {},
      "outputs": [
        {
          "name": "stdout",
          "output_type": "stream",
          "text": [
            "['John', 'Mary']\n"
          ]
        }
      ],
      "source": [
        "python_course.show_students()"
      ]
    },
    {
      "cell_type": "code",
      "execution_count": 18,
      "id": "34083a2c",
      "metadata": {},
      "outputs": [
        {
          "name": "stdout",
          "output_type": "stream",
          "text": [
            "Mary has been removed from the Python for Data Science course\n"
          ]
        }
      ],
      "source": [
        "python_course.remove_student(\"Mary\")"
      ]
    },
    {
      "cell_type": "code",
      "execution_count": 19,
      "id": "86379d14",
      "metadata": {},
      "outputs": [
        {
          "name": "stdout",
          "output_type": "stream",
          "text": [
            "The student is not in the {self.name} course\n"
          ]
        }
      ],
      "source": [
        "python_course.remove_student(\"Mary\")"
      ]
    },
    {
      "cell_type": "code",
      "execution_count": 20,
      "id": "5f1bf175",
      "metadata": {},
      "outputs": [
        {
          "name": "stdout",
          "output_type": "stream",
          "text": [
            "['John']\n"
          ]
        }
      ],
      "source": [
        "python_course.show_students()"
      ]
    },
    {
      "cell_type": "markdown",
      "id": "16cc578c-9fe3-4478-81da-3071e3adb318",
      "metadata": {
        "editable": true,
        "id": "16cc578c-9fe3-4478-81da-3071e3adb318",
        "tags": []
      },
      "source": [
        "## Object Oriented programming\n",
        "### Hands on\n",
        "\n",
        "2. Create a **Student** class, where each student has a name, ID number, address and a list of enrolled courses with the following methods:\n",
        "    - Enroll in a course.\n",
        "    - Drop a course.\n",
        "    - Show all registered student courses."
      ]
    },
    {
      "cell_type": "code",
      "execution_count": 21,
      "id": "fe4cce31-1ddf-4847-bc8d-924dc3e0dfe1",
      "metadata": {
        "editable": true,
        "id": "fe4cce31-1ddf-4847-bc8d-924dc3e0dfe1",
        "tags": []
      },
      "outputs": [],
      "source": [
        "class Student:\n",
        "    def __init__(self, student_name, student_id, address):\n",
        "        self.name = student_name\n",
        "        self.id = student_id\n",
        "        self.address = address\n",
        "        self.enrolled_courses = list()\n",
        "    \n",
        "    def enroll(self, course):\n",
        "        # To ensure no duplication in enrolling:\n",
        "        if course not in self.enrolled_courses:\n",
        "            self.enrolled_courses.append(course)\n",
        "            print(f\"{self.name} has been enrolled in the {course} course\")\n",
        "        else:\n",
        "            print(f\"{self.name} is already enrolled in the {course} course\")\n",
        "    \n",
        "\n",
        "    def drop(self, course):\n",
        "        if course in self.enrolled_courses:\n",
        "            self.enrolled_courses.remove(course)\n",
        "            print(f\"{self.name} has been dropped from the {course} course\")\n",
        "        else:\n",
        "            #To ensure some message is shown if the course is not in the list\n",
        "            print(f\"{self.name} is not enrolled in the {course} course\")\n",
        "    \n",
        "    def show_courses(self):\n",
        "        print(self.enrolled_courses)\n"
      ]
    },
    {
      "cell_type": "code",
      "execution_count": 22,
      "id": "42d77498",
      "metadata": {},
      "outputs": [
        {
          "name": "stdout",
          "output_type": "stream",
          "text": [
            "Darren has been enrolled in the Python for Data Science course\n"
          ]
        }
      ],
      "source": [
        "#Testing:\n",
        "\n",
        "darren = Student(\"Darren\", 12345, \"Calle 123\")\n",
        "\n",
        "darren.enroll(\"Python for Data Science\")"
      ]
    },
    {
      "cell_type": "code",
      "execution_count": 23,
      "id": "99691501",
      "metadata": {},
      "outputs": [
        {
          "name": "stdout",
          "output_type": "stream",
          "text": [
            "Darren is already enrolled in the Python for Data Science course\n"
          ]
        }
      ],
      "source": [
        "darren.enroll(\"Python for Data Science\")"
      ]
    },
    {
      "cell_type": "code",
      "execution_count": 24,
      "id": "ef2025ee",
      "metadata": {},
      "outputs": [
        {
          "name": "stdout",
          "output_type": "stream",
          "text": [
            "Darren has been enrolled in the Business in Society course\n",
            "Darren has been enrolled in the Data Science course\n",
            "['Python for Data Science', 'Business in Society', 'Data Science']\n"
          ]
        }
      ],
      "source": [
        "darren.enroll(\"Business in Society\")\n",
        "darren.enroll(\"Data Science\")\n",
        "\n",
        "darren.show_courses()"
      ]
    },
    {
      "cell_type": "code",
      "execution_count": 25,
      "id": "67a80c49",
      "metadata": {},
      "outputs": [
        {
          "name": "stdout",
          "output_type": "stream",
          "text": [
            "Darren has been dropped from the Python for Data Science course\n"
          ]
        }
      ],
      "source": [
        "darren.drop(\"Python for Data Science\")"
      ]
    },
    {
      "cell_type": "code",
      "execution_count": 26,
      "id": "4e9ee256",
      "metadata": {},
      "outputs": [
        {
          "name": "stdout",
          "output_type": "stream",
          "text": [
            "Darren is not enrolled in the Python for Data Science course\n"
          ]
        }
      ],
      "source": [
        "darren.drop(\"Python for Data Science\")"
      ]
    },
    {
      "cell_type": "code",
      "execution_count": 27,
      "id": "e763baf4",
      "metadata": {},
      "outputs": [
        {
          "name": "stdout",
          "output_type": "stream",
          "text": [
            "['Business in Society', 'Data Science']\n"
          ]
        }
      ],
      "source": [
        "darren.show_courses()"
      ]
    },
    {
      "cell_type": "markdown",
      "id": "5c54b2fe-691f-4520-b8d6-2515ba92b808",
      "metadata": {
        "editable": true,
        "id": "5c54b2fe-691f-4520-b8d6-2515ba92b808",
        "tags": []
      },
      "source": [
        "## Object Oriented programming\n",
        "### Hands on\n",
        "\n",
        "3. Create a central class that manages courses and students, **Registration** class, where you have a list of students and a list of courses, and methods:\n",
        "    - Enroll in a course.\n",
        "    - Drop a course.\n",
        "    - Show all the enrolled courses.\n",
        "    - Show all the students."
      ]
    },
    {
      "cell_type": "code",
      "execution_count": 28,
      "id": "863f30c7-3cf8-4ac9-8599-e7df8e0d483c",
      "metadata": {
        "editable": true,
        "id": "863f30c7-3cf8-4ac9-8599-e7df8e0d483c",
        "tags": []
      },
      "outputs": [],
      "source": [
        "class Registrar:\n",
        "    def __init__(self): #courses and students are not the init parameters in the parenthesis\n",
        "        self.courses = []\n",
        "        self.students = []\n",
        "\n",
        "        \n",
        "    def add_course(self, course):\n",
        "        self.courses.append(course)\n",
        "    \n",
        "    def add_student(self, student):\n",
        "        self.students.append(student)\n",
        "\n",
        "    def show_courses(self):\n",
        "        # Use list comprehension to collect all names in list and return list after loop\n",
        "        return [course.name for course in self.courses]\n",
        "\n",
        "    def show_students(self):\n",
        "        # Use list comprehension to collect all names in list and return list after loop\n",
        "        return [student.name for student in self.students]\n"
      ]
    },
    {
      "cell_type": "code",
      "execution_count": 29,
      "id": "542a99bc",
      "metadata": {},
      "outputs": [
        {
          "data": {
            "text/plain": [
              "['Data Science', 'Quantitative Finance']"
            ]
          },
          "execution_count": 29,
          "metadata": {},
          "output_type": "execute_result"
        }
      ],
      "source": [
        "#Initialise the sub-classes:\n",
        "# Courses\n",
        "datascience = Course(\"Data Science\", \"Data Science Techniques and Statistics\")\n",
        "quantfinance = Course(\"Quantitative Finance\", \"Applied Data Science for Financial Analytics\")\n",
        "\n",
        "#Students\n",
        "student1 = Student(\"Noelle Tan \", 12345, \"Calle 123\")\n",
        "student2 = Student(\"Darren Tan \", 12346, \"Calle 456\")\n",
        "\n",
        "registration = Registrar()\n",
        "\n",
        "#Test the course:\n",
        "\n",
        "registration.add_course(datascience)\n",
        "registration.add_course(quantfinance)\n",
        "\n",
        "registration.show_courses()\n"
      ]
    },
    {
      "cell_type": "code",
      "execution_count": 30,
      "id": "1b8db430",
      "metadata": {},
      "outputs": [
        {
          "data": {
            "text/plain": [
              "['Noelle Tan ', 'Darren Tan ']"
            ]
          },
          "execution_count": 30,
          "metadata": {},
          "output_type": "execute_result"
        }
      ],
      "source": [
        "#Test the student:\n",
        "\n",
        "registration.add_student(student1)\n",
        "registration.add_student(student2)\n",
        "\n",
        "registration.show_students()"
      ]
    },
    {
      "cell_type": "markdown",
      "id": "2958b01b-3472-4c95-ae1f-771edc638749",
      "metadata": {
        "editable": true,
        "id": "2958b01b-3472-4c95-ae1f-771edc638749",
        "tags": []
      },
      "source": [
        "## Object Oriented programming\n",
        "### Howework\n",
        "\n",
        "4. Let's add grades to each student's course and create method that yields the GPA given a student name or ID."
      ]
    },
    {
      "cell_type": "code",
      "execution_count": 31,
      "id": "ffa4bc3d",
      "metadata": {},
      "outputs": [],
      "source": [
        "#Add a method to add_grades to the class containing Student: \n",
        "## We do so by introducing a key-value pair in a dictionary, where the key is the course and the value is the grade.\n",
        "\n",
        "class Student:\n",
        "    def __init__(self, student_name, student_id, address):\n",
        "        self.name = student_name\n",
        "        self.id = student_id\n",
        "        self.address = address\n",
        "        self.enrolled_courses = {}  # Dictionary to hold courses and corresponding grades\n",
        "\n",
        "    def enroll(self, course):\n",
        "        # To ensure no duplication in enrolling:\n",
        "        if course not in self.enrolled_courses:\n",
        "            self.enrolled_courses[course] = None #Default grade is None in the value of the dictionary where the key is added.\n",
        "            print(f\"{self.name} has been enrolled in the {course.name} course\")\n",
        "        else:\n",
        "            print(f\"{self.name} is already enrolled in the {course.name} course\")\n",
        "\n",
        "    def drop(self, course):\n",
        "        if course in self.enrolled_courses:\n",
        "            self.enrolled_courses.remove(course)\n",
        "            print(f\"{self.name} has been dropped from the {course.name} course\")\n",
        "            #To ensure some messsage is shown if the course is not in the list\n",
        "        else:\n",
        "            print(f\"{self.name} is not enrolled in the {course.name} course\")\n",
        "\n",
        "    def show_courses(self):\n",
        "        for course, grade in self.enrolled_courses.items():\n",
        "            grade_display = grade if grade is not None else \"Not yet graded\"\n",
        "            print(f\"Course: {course.name}, Grade: {grade_display}\")\n",
        "\n",
        "#Add grade method:\n",
        "    def add_grade(self, course, grade):\n",
        "        if course in self.enrolled_courses:\n",
        "            self.enrolled_courses[course] = grade #grade is added to the dictionary where initially is None\n",
        "            print(f\"Grade {grade} has been added for {self.name} in {course.name}\")\n",
        "        else:\n",
        "            print(f\"{self.name} is not enrolled in the {course.name} course\")"
      ]
    },
    {
      "cell_type": "code",
      "execution_count": 45,
      "id": "0d143738",
      "metadata": {},
      "outputs": [],
      "source": [
        "#Then add another method to calculate GPA:\n",
        "## We initialize students, total grades and number of courses.\n",
        "\n",
        "class Registrar:\n",
        "    def __init__(self):\n",
        "        self.courses = []\n",
        "        self.students = []\n",
        "\n",
        "    def add_course(self, course):\n",
        "        self.courses.append(course)\n",
        "\n",
        "    def add_student(self, student):\n",
        "        self.students.append(student)\n",
        "\n",
        "    def show_courses(self):\n",
        "        return [course.name for course in self.courses]\n",
        "\n",
        "    def show_students(self):\n",
        "        return [student.name for student in self.students]\n",
        "\n",
        "    def calculate_gpa(self, student_name=None, student_id=None):\n",
        "        # Find student by name or ID\n",
        "        student = None\n",
        "        for s in self.students:\n",
        "            if s.name == student_name or s.id == student_id:\n",
        "                student = s\n",
        "                break\n",
        "\n",
        "        if student is None:\n",
        "            print(\"Student not found\")\n",
        "            return None\n",
        "\n",
        "        # Calculate GPA\n",
        "        total_grades = 0\n",
        "        num_courses = 0\n",
        "        for course, grade in student.enrolled_courses.items():\n",
        "            if grade is not None:\n",
        "                total_grades += grade\n",
        "                num_courses += 1\n",
        "\n",
        "        if num_courses == 0:\n",
        "            print(f\"{student.name} has no graded courses.\")\n",
        "            return None\n",
        "\n",
        "        gpa = total_grades / num_courses\n",
        "        print(f\"GPA for {student.name} is: {gpa}\")\n",
        "        return gpa"
      ]
    },
    {
      "cell_type": "code",
      "execution_count": 46,
      "id": "8c15f0e0",
      "metadata": {},
      "outputs": [
        {
          "data": {
            "text/plain": [
              "['Data Science', 'Quantitative Finance']"
            ]
          },
          "execution_count": 46,
          "metadata": {},
          "output_type": "execute_result"
        }
      ],
      "source": [
        "# Example Usage\n",
        "\n",
        "# Courses\n",
        "datascience = Course(\"Data Science\", \"Data Science Techniques and Statistics\")\n",
        "quantfinance = Course(\"Quantitative Finance\", \"Applied Data Science for Financial Analytics\")\n",
        "\n",
        "# Students\n",
        "student1 = Student(\"Noelle Tan\", 12345, \"Calle 123\")\n",
        "student2 = Student(\"Darren Tan\", 12346, \"Calle 456\")\n",
        "student3 = Student(\"Jay Lim\", 12347, \"Calle 789\")\n",
        "\n",
        "# Registrar\n",
        "registration = Registrar()\n",
        "\n",
        "registration.add_course(datascience)\n",
        "registration.add_course(quantfinance)\n",
        "registration.add_student(student1)\n",
        "registration.add_student(student2)\n",
        "registration.add_student(student3)\n",
        "\n",
        "registration.show_courses()"
      ]
    },
    {
      "cell_type": "code",
      "execution_count": 47,
      "id": "d485333b",
      "metadata": {},
      "outputs": [
        {
          "name": "stdout",
          "output_type": "stream",
          "text": [
            "Noelle Tan has been enrolled in the Data Science course\n",
            "Noelle Tan has been enrolled in the Quantitative Finance course\n",
            "Darren Tan has been enrolled in the Quantitative Finance course\n"
          ]
        },
        {
          "data": {
            "text/plain": [
              "['Noelle Tan', 'Darren Tan', 'Jay Lim']"
            ]
          },
          "execution_count": 47,
          "metadata": {},
          "output_type": "execute_result"
        }
      ],
      "source": [
        "# Enroll students in courses\n",
        "student1.enroll(datascience)\n",
        "student1.enroll(quantfinance)\n",
        "student2.enroll(quantfinance)\n",
        "\n",
        "registration.show_students()\n"
      ]
    },
    {
      "cell_type": "code",
      "execution_count": 48,
      "id": "fa914eea",
      "metadata": {},
      "outputs": [
        {
          "name": "stdout",
          "output_type": "stream",
          "text": [
            "Grade 3.5 has been added for Noelle Tan in Data Science\n",
            "Grade 3.8 has been added for Noelle Tan in Quantitative Finance\n",
            "Grade 3.9 has been added for Darren Tan in Quantitative Finance\n",
            "GPA for Noelle Tan is: 3.65\n",
            "GPA for Darren Tan is: 3.9\n",
            "Jay Lim has no graded courses.\n",
            "Student not found\n"
          ]
        }
      ],
      "source": [
        "# Add grades for courses\n",
        "student1.add_grade(datascience, 3.5)\n",
        "student1.add_grade(quantfinance, 3.8)\n",
        "student2.add_grade(quantfinance, 3.9)\n",
        "\n",
        "# Calculate GPA\n",
        "registration.calculate_gpa(student_name=\"Noelle Tan\")\n",
        "registration.calculate_gpa(student_id=12346)\n",
        "registration.calculate_gpa(student_id=12347)\n",
        "registration.calculate_gpa(student_name=\"Alex\")"
      ]
    },
    {
      "cell_type": "markdown",
      "id": "76c565a9-dc30-464c-980d-d522cd5246f4",
      "metadata": {
        "editable": true,
        "id": "76c565a9-dc30-464c-980d-d522cd5246f4",
        "tags": []
      },
      "source": [
        "## That's all!"
      ]
    }
  ],
  "metadata": {
    "colab": {
      "provenance": []
    },
    "kernelspec": {
      "display_name": "base",
      "language": "python",
      "name": "python3"
    },
    "language_info": {
      "codemirror_mode": {
        "name": "ipython",
        "version": 3
      },
      "file_extension": ".py",
      "mimetype": "text/x-python",
      "name": "python",
      "nbconvert_exporter": "python",
      "pygments_lexer": "ipython3",
      "version": "3.11.7"
    }
  },
  "nbformat": 4,
  "nbformat_minor": 5
}
